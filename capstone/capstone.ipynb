{
 "cells": [
  {
   "cell_type": "code",
<<<<<<< HEAD
   "execution_count": 36,
=======
   "execution_count": 3,
>>>>>>> 113526e72dc582ca262cdea9ac61e710222c190e
   "metadata": {},
   "outputs": [
    {
     "ename": "ModuleNotFoundError",
     "evalue": "No module named 'pandas'",
     "output_type": "error",
     "traceback": [
      "\u001b[0;31m---------------------------------------------------------------------------\u001b[0m",
      "\u001b[0;31mModuleNotFoundError\u001b[0m                       Traceback (most recent call last)",
      "Cell \u001b[0;32mIn[3], line 1\u001b[0m\n\u001b[0;32m----> 1\u001b[0m \u001b[38;5;28;01mimport\u001b[39;00m \u001b[38;5;21;01mpandas\u001b[39;00m \u001b[38;5;28;01mas\u001b[39;00m \u001b[38;5;21;01mpd\u001b[39;00m\n\u001b[1;32m      2\u001b[0m \u001b[38;5;28;01mimport\u001b[39;00m \u001b[38;5;21;01mnumpy\u001b[39;00m \u001b[38;5;28;01mas\u001b[39;00m \u001b[38;5;21;01mnp\u001b[39;00m\n\u001b[1;32m      3\u001b[0m \u001b[38;5;28;01mimport\u001b[39;00m \u001b[38;5;21;01mmatplotlib\u001b[39;00m\u001b[38;5;21;01m.\u001b[39;00m\u001b[38;5;21;01mpyplot\u001b[39;00m \u001b[38;5;28;01mas\u001b[39;00m \u001b[38;5;21;01mplt\u001b[39;00m\n",
      "\u001b[0;31mModuleNotFoundError\u001b[0m: No module named 'pandas'"
     ]
    }
   ],
   "source": [
    "import pandas as pd\n",
    "import numpy as np\n",
    "import matplotlib.pyplot as plt\n",
    "from sklearn.linear_model import LinearRegression\n",
    "from scipy.stats import linregress\n",
    "\n",
    "import math"
   ]
  },
  {
   "attachments": {},
   "cell_type": "markdown",
   "metadata": {},
   "source": [
    "## Finding the nmaximum"
   ]
  },
  {
   "cell_type": "code",
   "execution_count": 37,
   "metadata": {},
   "outputs": [
    {
     "data": {
      "text/plain": [
       "['data/volt1.csv',\n",
       " 'data/volt2.csv',\n",
       " 'data/volt3.csv',\n",
       " 'data/volt4.csv',\n",
       " 'data/volt5.csv',\n",
       " 'data/volt6.csv',\n",
       " 'data/volt7.csv',\n",
       " 'data/volt8.csv',\n",
       " 'data/volt9.csv',\n",
       " 'data/volt10.csv']"
      ]
     },
     "execution_count": 37,
     "metadata": {},
     "output_type": "execute_result"
    }
   ],
   "source": [
    "voltage_data = []\n",
    "for i in range(1,11):\n",
    "    voltage_data.append(f'data/volt{i}.csv')\n",
    "voltage_data"
   ]
  },
  {
   "cell_type": "code",
   "execution_count": 38,
   "metadata": {},
   "outputs": [
    {
     "name": "stdout",
     "output_type": "stream",
     "text": [
      "['data/volt1.csv', 'data/volt2.csv', 'data/volt3.csv', 'data/volt4.csv', 'data/volt5.csv', 'data/volt6.csv', 'data/volt7.csv', 'data/volt8.csv', 'data/volt9.csv', 'data/volt10.csv']\n"
     ]
    }
   ],
   "source": [
    "pd.read_csv('data/volt1.csv')\n",
    "print(voltage_data)"
   ]
  },
  {
   "cell_type": "code",
   "execution_count": 39,
   "metadata": {},
   "outputs": [
    {
     "name": "stdout",
     "output_type": "stream",
     "text": [
      "data/volt1.csv\n",
      "data/volt1.csv\n",
      "data/volt1.csv\n",
      "data/volt1.csv\n",
      "data/volt2.csv\n",
      "data/volt2.csv\n",
      "data/volt2.csv\n",
      "data/volt2.csv\n",
      "data/volt3.csv\n",
      "data/volt3.csv\n",
      "data/volt3.csv\n",
      "data/volt3.csv\n",
      "data/volt4.csv\n",
      "data/volt4.csv\n",
      "data/volt4.csv\n",
      "data/volt4.csv\n",
      "data/volt5.csv\n",
      "data/volt5.csv\n",
      "data/volt5.csv\n",
      "data/volt5.csv\n",
      "data/volt6.csv\n",
      "data/volt6.csv\n",
      "data/volt6.csv\n",
      "data/volt6.csv\n",
      "data/volt7.csv\n",
      "data/volt7.csv\n",
      "data/volt7.csv\n",
      "data/volt7.csv\n",
      "data/volt8.csv\n",
      "data/volt8.csv\n",
      "data/volt8.csv\n",
      "data/volt8.csv\n",
      "data/volt9.csv\n",
      "data/volt9.csv\n",
      "data/volt9.csv\n",
      "data/volt9.csv\n",
      "data/volt10.csv\n",
      "data/volt10.csv\n",
      "data/volt10.csv\n",
      "data/volt10.csv\n",
      "[0.0033795572817325926, 0.006257631505529074, 0.00914282941569885, 0.011894314394642917, 0.01484824685030614, 0.01788505102740596, 0.020701059605926195, 0.023579004375884883, 0.026447878529628054, 0.02949060002962744]\n"
     ]
    }
   ],
   "source": [
    "def find_max(data):\n",
    "    # Load data from CSV\n",
    "    print(data)\n",
    "\n",
    "    data = pd.read_csv(data)\n",
    "    y = list(data['Voltage (mV)'])\n",
    "    \n",
    "    # Define the length of each portion\n",
    "    n = len(y)\n",
    "    portion_size = n // 6\n",
    "    \n",
    "    # Split the data into 6 portions\n",
    "    portions = [y[i * portion_size:(i + 1) * portion_size] for i in range(6)]\n",
    "    \n",
    "    # Handle any leftover elements in the last portion\n",
    "    if n % 6 != 0:\n",
    "        portions[-1].extend(y[6 * portion_size:])\n",
    "    \n",
    "    # Find the maximum of each portion\n",
    "    maxes = [max(portion) for portion in portions]\n",
    "    \n",
    "    return np.array(maxes)\n",
    "\n",
    "\n",
    "def find_min(data):\n",
    "    data = pd.read_csv(data)\n",
    "    y = list(data['Voltage (mV)'])\n",
    "    \n",
    "    # Define the length of each portion\n",
    "    n = len(y)\n",
    "    portion_size = n // 6\n",
    "    \n",
    "    # Split the data into 6 portions\n",
    "    portions = [y[i * portion_size:(i + 1) * portion_size] for i in range(6)]\n",
    "    \n",
    "    # Handle any leftover elements in the last portion\n",
    "    if n % 6 != 0:\n",
    "        portions[-1].extend(y[6 * portion_size:])\n",
    "    \n",
    "    # Find the maximum of each portion\n",
    "    mins = [min(portion) for portion in portions]\n",
    "    \n",
    "    return np.array(mins)\n",
    "\n",
    "# def find_current(data):\n",
    "#     return (np.mean(find_max(data)-find_min(data))/2*0.3), np.std((find_max(data)-find_min(data))/2*0.3)\n",
    "\n",
    "def find_current(data):\n",
    "    return (np.mean(find_max(data)-(find_max(data) + find_min(data))/2)), (np.std(find_max(data)-(find_max(data) + find_min(data))/2)) \n",
    "\n",
    "current = []\n",
    "current_errors = []\n",
    "for i in range(len(voltage_data)):\n",
    "    data = voltage_data[i]\n",
    "    y,y_error = find_current(data)\n",
    "    current.append(y)\n",
    "    current_errors.append(y_error)\n",
    "\n",
    "print(current)\n"
   ]
  },
  {
   "attachments": {},
   "cell_type": "markdown",
   "metadata": {},
   "source": [
    "## Analysis portion"
   ]
  },
  {
   "cell_type": "code",
   "execution_count": 40,
   "metadata": {},
   "outputs": [],
   "source": [
    "part1 = pd.read_csv('part1.csv')\n",
    "voltage = part1['voltage']*1000"
   ]
  },
  {
   "cell_type": "code",
   "execution_count": 41,
   "metadata": {},
   "outputs": [
    {
     "data": {
      "text/plain": [
       "<matplotlib.collections.PathCollection at 0x7fc191c2bfa0>"
      ]
     },
     "execution_count": 41,
     "metadata": {},
     "output_type": "execute_result"
    },
    {
     "data": {
      "image/png": "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",
      "text/plain": [
       "<Figure size 640x480 with 1 Axes>"
      ]
     },
     "metadata": {},
     "output_type": "display_data"
    }
   ],
   "source": [
    "plt.scatter(voltage, current)"
   ]
  },
  {
   "cell_type": "code",
   "execution_count": 42,
   "metadata": {},
   "outputs": [
    {
     "data": {
      "image/png": "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",
      "text/plain": [
       "<Figure size 800x600 with 1 Axes>"
      ]
     },
     "metadata": {},
     "output_type": "display_data"
    },
    {
     "name": "stdout",
     "output_type": "stream",
     "text": [
      "Slope: 2.90e-06\n",
      "Intercept: 4.30e-04\n",
      "Standard Error: 7.93e-09\n",
      "Chi-Squared: 8.86e+00\n"
     ]
    }
   ],
   "source": [
    "x = voltage\n",
    "y = current\n",
    "slope, intercept, r_value, p_value, std_err = linregress(x, y)\n",
    "\n",
    "# Create line for the fitted model\n",
    "fit_line = slope * x + intercept\n",
    "\n",
    "# Compute chi-squared\n",
    "chi_squared = np.sum(((y - fit_line) / current_errors) ** 2)\n",
    "\n",
    "# Plot the data with error bars\n",
    "plt.figure(figsize=(8, 6))\n",
    "plt.errorbar(\n",
    "    x, y, yerr=current_errors, fmt='o', markersize=4, color='blue', \n",
    "    label='Data points with error bars'\n",
    ")\n",
    "plt.plot(x, fit_line, color='red', label=f'Fit: y = {slope:.2e}x + {intercept:.2e}')\n",
    "plt.xlabel('Voltage (mV)')\n",
    "plt.ylabel('Current (mA)')\n",
    "plt.title('Voltage vs. Current')\n",
    "plt.legend()\n",
    "\n",
    "# Annotate the plot with slope, error, and chi-squared in scientific notation\n",
    "plt.text(0.01, 0.85, f'Slope = ({slope:.2e} ± {std_err:.2e})', \n",
    "         transform=plt.gca().transAxes, fontsize=10, verticalalignment='top')\n",
    "plt.text(0.01, 0.78, f'Chi-Squared = {chi_squared:.2e}', \n",
    "         transform=plt.gca().transAxes, fontsize=10, verticalalignment='top')\n",
    "\n",
    "plt.grid()\n",
    "plt.show()\n",
    "\n",
    "# Print the slope, standard error, and chi-squared in scientific notation\n",
    "print(f\"Slope: {slope:.2e}\")\n",
    "print(f\"Intercept: {intercept:.2e}\")\n",
    "print(f\"Standard Error: {std_err:.2e}\")\n",
    "print(f\"Chi-Squared: {chi_squared:.2e}\")\n"
   ]
  },
  {
   "cell_type": "code",
   "execution_count": 43,
   "metadata": {},
   "outputs": [
    {
     "data": {
      "image/png": "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",
      "text/plain": [
       "<Figure size 800x600 with 1 Axes>"
      ]
     },
     "metadata": {},
     "output_type": "display_data"
    }
   ],
   "source": [
    "x = part1['voltage']\n",
    "y = (part1['min (mV)'] + part1['Max (mV)']) / 2*0.3\n",
    "\n",
    "# Perform linear regression\n",
    "slope, intercept, r_value, p_value, std_err = linregress(x, y)\n",
    "\n",
    "# Calculate predicted y values (fitted values)\n",
    "y_pred = slope * x + intercept\n",
    "\n",
    "# Calculate residuals\n",
    "residuals = y - y_pred\n",
    "\n",
    "# Plot the residuals\n",
    "plt.figure(figsize=(8, 6))\n",
    "plt.scatter(x, residuals, color='blue', label='Residuals')\n",
    "plt.axhline(0, color='red', linestyle='--', label='Zero Line')\n",
    "plt.xlabel('Voltage (mV)')\n",
    "plt.ylabel('Residuals (mA)')\n",
    "plt.title('Residual Plot')\n",
    "plt.legend()\n",
    "\n",
    "# Annotate with some residual stats\n",
    "plt.text(0.05, 0.90, f'Mean Residual: {np.mean(residuals):.10f}', \n",
    "         transform=plt.gca().transAxes, fontsize=10, verticalalignment='top')\n",
    "plt.text(0.05, 0.85, f'Standard Deviation: {np.std(residuals):.4f}', \n",
    "         transform=plt.gca().transAxes, fontsize=10, verticalalignment='top')\n",
    "\n",
    "plt.grid()\n",
    "plt.show()"
   ]
  },
  {
   "attachments": {},
   "cell_type": "markdown",
   "metadata": {},
   "source": [
    "# Calculating Error Propagation"
   ]
  },
  {
   "cell_type": "code",
   "execution_count": 44,
   "metadata": {},
   "outputs": [],
   "source": [
    "from sympy import symbols, sqrt, diff"
   ]
  },
  {
   "cell_type": "code",
   "execution_count": 45,
   "metadata": {},
   "outputs": [],
   "source": [
    "# Define f\n",
    "\n",
    "A1, A2, l1, l2, R1, R2, n1, n2, omega = symbols('A1 A2 l1 l2 R1 R2 n1 n2 omega')\n",
    "mu0, N2 = symbols('mu0 N2')"
   ]
  },
  {
   "cell_type": "code",
   "execution_count": 46,
   "metadata": {},
   "outputs": [
    {
     "data": {
      "text/latex": [
       "$\\displaystyle - \\frac{A_{2} N_{2} \\mu_{0} n_{1} \\omega}{\\left(A_{1}^{2} l_{1}^{2} \\mu_{0}^{2} n_{1}^{4} \\omega^{2} + R_{1}^{2}\\right)^{0.5} \\left(A_{2}^{2} l_{2}^{2} \\mu_{0}^{2} n_{2}^{4} \\omega^{2} + R_{2}^{2}\\right)^{0.5}}$"
      ],
      "text/plain": [
       "-A2*N2*mu0*n1*omega/((A1**2*l1**2*mu0**2*n1**4*omega**2 + R1**2)**0.5*(A2**2*l2**2*mu0**2*n2**4*omega**2 + R2**2)**0.5)"
      ]
     },
     "execution_count": 46,
     "metadata": {},
     "output_type": "execute_result"
    }
   ],
   "source": [
    "numerator = (mu0 * n1 * A2 *N2)/(R1**2 + omega**2*(mu0*n1**2 *A1*l1)**2)**0.5*omega\n",
    "denominator = (R2**2 + omega**2*(mu0 * n2**2 * A2 * l2)**2)**0.5\n",
    "f = numerator / denominator\n",
    "f\n"
   ]
  },
  {
   "cell_type": "code",
   "execution_count": 47,
   "metadata": {},
   "outputs": [],
   "source": [
    "partial_A1 = diff(f, A1)\n",
    "partial_A2 = diff(f, A2)\n",
    "partial_l1 = diff(f, l1)\n",
    "partial_l2 = diff(f, l2)\n",
    "partial_R1 = diff(f, R1)\n",
    "partial_R2 = diff(f, R2)\n",
    "partial_n1 = diff(f, n1)\n",
    "partial_n2 = diff(f, n2)\n",
    "partial_omega = diff(f, omega)\n",
    "\n",
    "partials = {\n",
    "    'partial_A1': partial_A1,\n",
    "    'partial_A2': partial_A2,\n",
    "    'partial_l1': partial_l1,\n",
    "    'partial_l2': partial_l2,\n",
    "    'partial_R1': partial_R1,\n",
    "    'partial_R2': partial_R2,\n",
    "    'partial_n1': partial_n1,\n",
    "    'partial_n2': partial_n2,\n",
    "    'partial_omega': partial_omega,\n",
    "}\n"
   ]
  },
  {
   "cell_type": "code",
   "execution_count": 48,
   "metadata": {},
   "outputs": [
    {
     "data": {
      "text/latex": [
       "$\\displaystyle \\frac{1.0 A_{1}^{2} A_{2} N_{2} l_{1}^{2} \\mu_{0}^{3} n_{1}^{5} \\omega^{2}}{\\left(A_{1}^{2} l_{1}^{2} \\mu_{0}^{2} n_{1}^{4} \\omega^{2} + R_{1}^{2}\\right)^{1.5} \\left(A_{2}^{2} l_{2}^{2} \\mu_{0}^{2} n_{2}^{4} \\omega^{2} + R_{2}^{2}\\right)^{0.5}} + \\frac{1.0 A_{2}^{3} N_{2} l_{2}^{2} \\mu_{0}^{3} n_{1} n_{2}^{4} \\omega^{2}}{\\left(A_{1}^{2} l_{1}^{2} \\mu_{0}^{2} n_{1}^{4} \\omega^{2} + R_{1}^{2}\\right)^{0.5} \\left(A_{2}^{2} l_{2}^{2} \\mu_{0}^{2} n_{2}^{4} \\omega^{2} + R_{2}^{2}\\right)^{1.5}} - \\frac{A_{2} N_{2} \\mu_{0} n_{1}}{\\left(A_{1}^{2} l_{1}^{2} \\mu_{0}^{2} n_{1}^{4} \\omega^{2} + R_{1}^{2}\\right)^{0.5} \\left(A_{2}^{2} l_{2}^{2} \\mu_{0}^{2} n_{2}^{4} \\omega^{2} + R_{2}^{2}\\right)^{0.5}}$"
      ],
      "text/plain": [
       "1.0*A1**2*A2*N2*l1**2*mu0**3*n1**5*omega**2/((A1**2*l1**2*mu0**2*n1**4*omega**2 + R1**2)**1.5*(A2**2*l2**2*mu0**2*n2**4*omega**2 + R2**2)**0.5) + 1.0*A2**3*N2*l2**2*mu0**3*n1*n2**4*omega**2/((A1**2*l1**2*mu0**2*n1**4*omega**2 + R1**2)**0.5*(A2**2*l2**2*mu0**2*n2**4*omega**2 + R2**2)**1.5) - A2*N2*mu0*n1/((A1**2*l1**2*mu0**2*n1**4*omega**2 + R1**2)**0.5*(A2**2*l2**2*mu0**2*n2**4*omega**2 + R2**2)**0.5)"
      ]
     },
     "execution_count": 48,
     "metadata": {},
     "output_type": "execute_result"
    }
   ],
   "source": [
    "partial_omega"
   ]
  },
  {
   "attachments": {},
   "cell_type": "markdown",
   "metadata": {},
   "source": [
    "## Calcuating the Error"
   ]
  },
  {
   "cell_type": "code",
   "execution_count": 49,
   "metadata": {},
   "outputs": [
    {
     "name": "stdout",
     "output_type": "stream",
     "text": [
      "This outputs the equation for the error propagation\n"
     ]
    }
   ],
   "source": [
    "Alpha_A1, Alpha_A2, Alpha_l1, Alpha_l2, Alpha_R1, Alpha_R2, Alpha_n1, Alpha_n2, Alpha_omega = (\n",
    "     0.02, 0.03, 0.01, 0.02, 0.01, 0.02, 0.1, 0.1, 0.01\n",
    ")\n",
    "\n",
    "# Values of variables (replace with actual values)\n",
    "values = {\n",
    "    A1: 1.0,\n",
    "    A2: 1.0,\n",
    "    l1: 1.0,\n",
    "    l2: 1.0,\n",
    "    R1: 1.0,\n",
    "    R2: 1.0,\n",
    "    n1: 1.0,\n",
    "    n2: 1.0,\n",
    "    omega: 1.0,\n",
    "}\n",
    "\n",
    "# Substitute values into partial derivatives\n",
    "partials_evaluated = {\n",
    "    name: partial.subs(values)\n",
    "    for name, partial in partials.items()\n",
    "}\n",
    "\n",
    "# Calculate the squared contributions\n",
    "squared_terms = [\n",
    "    (partials_evaluated['partial_A1'] * Alpha_A1)**2,\n",
    "    (partials_evaluated['partial_A2'] * Alpha_A2)**2,\n",
    "    (partials_evaluated['partial_l1'] * Alpha_l1)**2,\n",
    "    (partials_evaluated['partial_l2'] * Alpha_l2)**2,\n",
    "    (partials_evaluated['partial_R1'] * Alpha_R1)**2,\n",
    "    (partials_evaluated['partial_R2'] * Alpha_R2)**2,\n",
    "    (partials_evaluated['partial_R2'] * Alpha_n1)**2,\n",
    "    (partials_evaluated['partial_R2'] * Alpha_n2)**2,\n",
    "    (partials_evaluated['partial_omega'] * Alpha_omega)**2,\n",
    "]\n",
    "\n",
    "# Sum the squared terms and take the square root\n",
    "Delta_f = sqrt(sum(squared_terms))\n",
    "Delta_f\n",
    "print(\"This outputs the equation for the error propagation\")"
   ]
  },
  {
   "cell_type": "code",
   "execution_count": 50,
   "metadata": {},
   "outputs": [
    {
     "data": {
      "text/latex": [
       "$\\displaystyle 2.0 \\sqrt{\\frac{0.25 A_{1}^{4} A_{2}^{2} N_{2}^{2} \\alpha_{l1}^{2} l_{1}^{2} \\mu_{0}^{6} n_{1}^{10} \\omega^{6}}{\\left(A_{1}^{2} l_{1}^{2} \\mu_{0}^{2} n_{1}^{4} \\omega^{2} + R_{1}^{2}\\right)^{3.0} \\left(A_{2}^{2} l_{2}^{2} \\mu_{0}^{2} n_{2}^{4} \\omega^{2} + R_{2}^{2}\\right)^{1.0}} + \\frac{0.25 A_{1}^{2} A_{2}^{2} N_{2}^{2} \\alpha_{A1}^{2} l_{1}^{4} \\mu_{0}^{6} n_{1}^{10} \\omega^{6}}{\\left(A_{1}^{2} l_{1}^{2} \\mu_{0}^{2} n_{1}^{4} \\omega^{2} + R_{1}^{2}\\right)^{3.0} \\left(A_{2}^{2} l_{2}^{2} \\mu_{0}^{2} n_{2}^{4} \\omega^{2} + R_{2}^{2}\\right)^{1.0}} + \\frac{0.25 A_{2}^{6} N_{2}^{2} \\alpha_{l2}^{2} l_{2}^{2} \\mu_{0}^{6} n_{1}^{2} n_{2}^{8} \\omega^{6}}{\\left(A_{1}^{2} l_{1}^{2} \\mu_{0}^{2} n_{1}^{4} \\omega^{2} + R_{1}^{2}\\right)^{1.0} \\left(A_{2}^{2} l_{2}^{2} \\mu_{0}^{2} n_{2}^{4} \\omega^{2} + R_{2}^{2}\\right)^{3.0}} + \\frac{A_{2}^{6} N_{2}^{2} \\alpha_{n2}^{2} l_{2}^{4} \\mu_{0}^{6} n_{1}^{2} n_{2}^{6} \\omega^{6}}{\\left(A_{1}^{2} l_{1}^{2} \\mu_{0}^{2} n_{1}^{4} \\omega^{2} + R_{1}^{2}\\right)^{1.0} \\left(A_{2}^{2} l_{2}^{2} \\mu_{0}^{2} n_{2}^{4} \\omega^{2} + R_{2}^{2}\\right)^{3.0}} + \\frac{0.25 A_{2}^{2} N_{2}^{2} R_{1}^{2} \\alpha_{R1}^{2} \\mu_{0}^{2} n_{1}^{2} \\omega^{2}}{\\left(A_{1}^{2} l_{1}^{2} \\mu_{0}^{2} n_{1}^{4} \\omega^{2} + R_{1}^{2}\\right)^{3.0} \\left(A_{2}^{2} l_{2}^{2} \\mu_{0}^{2} n_{2}^{4} \\omega^{2} + R_{2}^{2}\\right)^{1.0}} + \\frac{0.25 A_{2}^{2} N_{2}^{2} R_{2}^{2} \\alpha_{R2}^{2} \\mu_{0}^{2} n_{1}^{2} \\omega^{2}}{\\left(A_{1}^{2} l_{1}^{2} \\mu_{0}^{2} n_{1}^{4} \\omega^{2} + R_{1}^{2}\\right)^{1.0} \\left(A_{2}^{2} l_{2}^{2} \\mu_{0}^{2} n_{2}^{4} \\omega^{2} + R_{2}^{2}\\right)^{3.0}} + 0.25 \\alpha_{A2}^{2} \\left(\\frac{1.0 A_{2}^{2} N_{2} l_{2}^{2} \\mu_{0}^{3} n_{1} n_{2}^{4} \\omega^{3}}{\\left(A_{1}^{2} l_{1}^{2} \\mu_{0}^{2} n_{1}^{4} \\omega^{2} + R_{1}^{2}\\right)^{0.5} \\left(A_{2}^{2} l_{2}^{2} \\mu_{0}^{2} n_{2}^{4} \\omega^{2} + R_{2}^{2}\\right)^{1.5}} - \\frac{N_{2} \\mu_{0} n_{1} \\omega}{\\left(A_{1}^{2} l_{1}^{2} \\mu_{0}^{2} n_{1}^{4} \\omega^{2} + R_{1}^{2}\\right)^{0.5} \\left(A_{2}^{2} l_{2}^{2} \\mu_{0}^{2} n_{2}^{4} \\omega^{2} + R_{2}^{2}\\right)^{0.5}}\\right)^{2} + \\alpha_{n1}^{2} \\left(\\frac{A_{1}^{2} A_{2} N_{2} l_{1}^{2} \\mu_{0}^{3} n_{1}^{4} \\omega^{3}}{\\left(A_{1}^{2} l_{1}^{2} \\mu_{0}^{2} n_{1}^{4} \\omega^{2} + R_{1}^{2}\\right)^{1.5} \\left(A_{2}^{2} l_{2}^{2} \\mu_{0}^{2} n_{2}^{4} \\omega^{2} + R_{2}^{2}\\right)^{0.5}} - \\frac{0.5 A_{2} N_{2} \\mu_{0} \\omega}{\\left(A_{1}^{2} l_{1}^{2} \\mu_{0}^{2} n_{1}^{4} \\omega^{2} + R_{1}^{2}\\right)^{0.5} \\left(A_{2}^{2} l_{2}^{2} \\mu_{0}^{2} n_{2}^{4} \\omega^{2} + R_{2}^{2}\\right)^{0.5}}\\right)^{2} + 0.25 \\alpha_{\\omega}^{2} \\left(\\frac{1.0 A_{1}^{2} A_{2} N_{2} l_{1}^{2} \\mu_{0}^{3} n_{1}^{5} \\omega^{2}}{\\left(A_{1}^{2} l_{1}^{2} \\mu_{0}^{2} n_{1}^{4} \\omega^{2} + R_{1}^{2}\\right)^{1.5} \\left(A_{2}^{2} l_{2}^{2} \\mu_{0}^{2} n_{2}^{4} \\omega^{2} + R_{2}^{2}\\right)^{0.5}} + \\frac{1.0 A_{2}^{3} N_{2} l_{2}^{2} \\mu_{0}^{3} n_{1} n_{2}^{4} \\omega^{2}}{\\left(A_{1}^{2} l_{1}^{2} \\mu_{0}^{2} n_{1}^{4} \\omega^{2} + R_{1}^{2}\\right)^{0.5} \\left(A_{2}^{2} l_{2}^{2} \\mu_{0}^{2} n_{2}^{4} \\omega^{2} + R_{2}^{2}\\right)^{1.5}} - \\frac{A_{2} N_{2} \\mu_{0} n_{1}}{\\left(A_{1}^{2} l_{1}^{2} \\mu_{0}^{2} n_{1}^{4} \\omega^{2} + R_{1}^{2}\\right)^{0.5} \\left(A_{2}^{2} l_{2}^{2} \\mu_{0}^{2} n_{2}^{4} \\omega^{2} + R_{2}^{2}\\right)^{0.5}}\\right)^{2}}$"
      ],
      "text/plain": [
       "2.0*sqrt(0.25*A1**4*A2**2*N2**2*alpha_l1**2*l1**2*mu0**6*n1**10*omega**6/((A1**2*l1**2*mu0**2*n1**4*omega**2 + R1**2)**3.0*(A2**2*l2**2*mu0**2*n2**4*omega**2 + R2**2)**1.0) + 0.25*A1**2*A2**2*N2**2*alpha_A1**2*l1**4*mu0**6*n1**10*omega**6/((A1**2*l1**2*mu0**2*n1**4*omega**2 + R1**2)**3.0*(A2**2*l2**2*mu0**2*n2**4*omega**2 + R2**2)**1.0) + 0.25*A2**6*N2**2*alpha_l2**2*l2**2*mu0**6*n1**2*n2**8*omega**6/((A1**2*l1**2*mu0**2*n1**4*omega**2 + R1**2)**1.0*(A2**2*l2**2*mu0**2*n2**4*omega**2 + R2**2)**3.0) + A2**6*N2**2*alpha_n2**2*l2**4*mu0**6*n1**2*n2**6*omega**6/((A1**2*l1**2*mu0**2*n1**4*omega**2 + R1**2)**1.0*(A2**2*l2**2*mu0**2*n2**4*omega**2 + R2**2)**3.0) + 0.25*A2**2*N2**2*R1**2*alpha_R1**2*mu0**2*n1**2*omega**2/((A1**2*l1**2*mu0**2*n1**4*omega**2 + R1**2)**3.0*(A2**2*l2**2*mu0**2*n2**4*omega**2 + R2**2)**1.0) + 0.25*A2**2*N2**2*R2**2*alpha_R2**2*mu0**2*n1**2*omega**2/((A1**2*l1**2*mu0**2*n1**4*omega**2 + R1**2)**1.0*(A2**2*l2**2*mu0**2*n2**4*omega**2 + R2**2)**3.0) + 0.25*alpha_A2**2*(1.0*A2**2*N2*l2**2*mu0**3*n1*n2**4*omega**3/((A1**2*l1**2*mu0**2*n1**4*omega**2 + R1**2)**0.5*(A2**2*l2**2*mu0**2*n2**4*omega**2 + R2**2)**1.5) - N2*mu0*n1*omega/((A1**2*l1**2*mu0**2*n1**4*omega**2 + R1**2)**0.5*(A2**2*l2**2*mu0**2*n2**4*omega**2 + R2**2)**0.5))**2 + alpha_n1**2*(A1**2*A2*N2*l1**2*mu0**3*n1**4*omega**3/((A1**2*l1**2*mu0**2*n1**4*omega**2 + R1**2)**1.5*(A2**2*l2**2*mu0**2*n2**4*omega**2 + R2**2)**0.5) - 0.5*A2*N2*mu0*omega/((A1**2*l1**2*mu0**2*n1**4*omega**2 + R1**2)**0.5*(A2**2*l2**2*mu0**2*n2**4*omega**2 + R2**2)**0.5))**2 + 0.25*alpha_omega**2*(1.0*A1**2*A2*N2*l1**2*mu0**3*n1**5*omega**2/((A1**2*l1**2*mu0**2*n1**4*omega**2 + R1**2)**1.5*(A2**2*l2**2*mu0**2*n2**4*omega**2 + R2**2)**0.5) + 1.0*A2**3*N2*l2**2*mu0**3*n1*n2**4*omega**2/((A1**2*l1**2*mu0**2*n1**4*omega**2 + R1**2)**0.5*(A2**2*l2**2*mu0**2*n2**4*omega**2 + R2**2)**1.5) - A2*N2*mu0*n1/((A1**2*l1**2*mu0**2*n1**4*omega**2 + R1**2)**0.5*(A2**2*l2**2*mu0**2*n2**4*omega**2 + R2**2)**0.5))**2)"
      ]
     },
     "execution_count": 50,
     "metadata": {},
     "output_type": "execute_result"
    }
   ],
   "source": [
    "A1, A2, l1, l2, R1, R2, n1, n2, omega = symbols('A1 A2 l1 l2 R1 R2 n1 n2 omega')\n",
    "Alpha_A1, Alpha_A2, Alpha_l1, Alpha_l2, Alpha_R1, Alpha_R2, Alpha_n1, Alpha_n2, Alpha_omega = symbols(\n",
    "    'alpha_A1 alpha_A2 alpha_l1 alpha_l2 alpha_R1 alpha_R2 alpha_n1 alpha_n2 alpha_omega'\n",
    ")\n",
    "\n",
    "# Define the squared contributions\n",
    "squared_terms = [\n",
    "    (partial_A1 * Alpha_A1)**2,\n",
    "    (partial_A2 * Alpha_A2)**2,\n",
    "    (partial_l1 * Alpha_l1)**2,\n",
    "    (partial_l2 * Alpha_l2)**2,\n",
    "    (partial_R1 * Alpha_R1)**2,\n",
    "    (partial_R2 * Alpha_R2)**2,\n",
    "    (partial_n1 * Alpha_n1)**2,\n",
    "    (partial_n2 * Alpha_n2)**2,\n",
    "    (partial_omega * Alpha_omega)**2,\n",
    "]\n",
    "\n",
    "# Sum the squared terms and take the square root\n",
    "Delta_f = sqrt(sum(squared_terms))\n",
    "Delta_f"
   ]
  },
  {
   "cell_type": "code",
   "execution_count": 51,
   "metadata": {},
   "outputs": [],
   "source": [
    "values = {\n",
    "    N2: 28,\n",
    "    A1: 0.01353,\n",
    "    A2: 0.00137,\n",
    "    l1: 0.00674,\n",
    "    l2: 0.00360,\n",
    "    R1: 50.8,\n",
    "    R2: 0.3,\n",
    "    n1: 2373.89,\n",
    "    n2: 7777.78,\n",
    "    omega: 40*math.pi,\n",
    "    Alpha_A1: 0.000004124, \n",
    "    Alpha_A2: 0.00000131, \n",
    "    Alpha_l1: 0.00001, \n",
    "    Alpha_l2: 0.00001, \n",
    "    Alpha_R1: 50.8*0.1, \n",
    "    Alpha_R2: 0.3*0.1, \n",
    "    Alpha_n1: 0.00016, \n",
    "    Alpha_n2: 0.00028, \n",
    "    Alpha_omega: 0.000001*2*math.pi,\n",
    "    mu0: 1.25663706e-6 ,\n",
    "    \n",
    "}  # Replace these with your actual values\n",
    "\n",
    "# Substitute numeric values\n",
    "Delta_f_numeric = Delta_f.subs(values).evalf()"
   ]
  },
  {
   "cell_type": "code",
   "execution_count": 52,
   "metadata": {},
   "outputs": [
    {
     "name": "stdout",
     "output_type": "stream",
     "text": [
      "The Theoritical Value should be:  -0.000932143188644266\n"
     ]
    },
    {
     "data": {
      "text/latex": [
       "$\\displaystyle - \\frac{A_{2} N_{2} \\mu_{0} n_{1} \\omega}{\\left(A_{1}^{2} l_{1}^{2} \\mu_{0}^{2} n_{1}^{4} \\omega^{2} + R_{1}^{2}\\right)^{0.5} \\left(A_{2}^{2} l_{2}^{2} \\mu_{0}^{2} n_{2}^{4} \\omega^{2} + R_{2}^{2}\\right)^{0.5}}$"
      ],
      "text/plain": [
       "-A2*N2*mu0*n1*omega/((A1**2*l1**2*mu0**2*n1**4*omega**2 + R1**2)**0.5*(A2**2*l2**2*mu0**2*n2**4*omega**2 + R2**2)**0.5)"
      ]
     },
     "execution_count": 52,
     "metadata": {},
     "output_type": "execute_result"
    }
   ],
   "source": [
    "print(\"The Theoritical Value should be: \", f.subs(values))\n",
    "f\n"
   ]
  },
  {
   "cell_type": "code",
   "execution_count": 53,
   "metadata": {},
   "outputs": [
    {
     "name": "stdout",
     "output_type": "stream",
     "text": [
      "The theoritical error is:  0.000130250823603918\n"
     ]
    }
   ],
   "source": [
    "print(\"The theoritical error is: \", Delta_f_numeric)"
   ]
  },
  {
   "cell_type": "code",
   "execution_count": 54,
   "metadata": {},
   "outputs": [
    {
     "data": {
      "text/plain": [
       "1.2566370614359173e-06"
      ]
     },
     "execution_count": 54,
     "metadata": {},
     "output_type": "execute_result"
    }
   ],
   "source": [
    "4*math.pi*10**-7"
   ]
  },
  {
   "cell_type": "code",
   "execution_count": 30,
   "metadata": {},
   "outputs": [
    {
     "data": {
      "text/plain": [
       "0.002247137417265857"
      ]
     },
     "execution_count": 30,
     "metadata": {},
     "output_type": "execute_result"
    }
   ],
   "source": [
    "V = 5.740\n",
    "alpha_v = 0.001 \n",
    "R = 0.3\n",
    "alpha_r = 0.1*0.3\n",
    "mu0 = 4*math.pi*10**-7\n",
    "n2 = 28\n",
    "\n",
    "\n",
    "def error_prop_part1():\n",
    "    return math.sqrt((mu0 * n2 / R)**2 + (mu0 * n2 * V / R**2)**2)\n",
    "\n",
    "error_prop_part1()"
   ]
  },
  {
   "cell_type": "code",
   "execution_count": 96,
   "metadata": {},
   "outputs": [
    {
     "data": {
      "text/plain": [
       "True"
      ]
     },
     "execution_count": 96,
     "metadata": {},
     "output_type": "execute_result"
    }
   ],
   "source": [
    "0.002247137417265857 == 0.002247137417265857"
   ]
  },
  {
   "cell_type": "code",
   "execution_count": null,
   "metadata": {},
   "outputs": [],
   "source": []
  }
 ],
 "metadata": {
  "kernelspec": {
   "display_name": "base",
   "language": "python",
   "name": "python3"
  },
  "language_info": {
   "codemirror_mode": {
    "name": "ipython",
    "version": 3
   },
   "file_extension": ".py",
   "mimetype": "text/x-python",
   "name": "python",
   "nbconvert_exporter": "python",
   "pygments_lexer": "ipython3",
   "version": "3.10.12"
  },
  "orig_nbformat": 4
 },
 "nbformat": 4,
 "nbformat_minor": 2
}
