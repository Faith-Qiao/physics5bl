{
 "cells": [
  {
   "cell_type": "code",
   "execution_count": 82,
   "metadata": {},
   "outputs": [],
   "source": [
    "import pandas as pd\n",
    "import numpy as np\n",
    "import numpy as np\n",
    "import pandas as pd\n",
    "import matplotlib.pyplot as plt\n",
    "import numpy as np\n",
    "import matplotlib.pyplot as plt\n",
    "from sklearn.linear_model import LinearRegression\n",
    "from scipy.stats import linregress\n",
    "\n",
    "import math"
   ]
  },
  {
   "attachments": {},
   "cell_type": "markdown",
   "metadata": {},
   "source": [
    "## Finding the nmaximum"
   ]
  },
  {
   "cell_type": "code",
   "execution_count": 83,
   "metadata": {},
   "outputs": [
    {
     "data": {
      "text/plain": [
       "['data/volt1.csv',\n",
       " 'data/volt2.csv',\n",
       " 'data/volt3.csv',\n",
       " 'data/volt4.csv',\n",
       " 'data/volt5.csv',\n",
       " 'data/volt6.csv',\n",
       " 'data/volt7.csv',\n",
       " 'data/volt8.csv',\n",
       " 'data/volt9.csv',\n",
       " 'data/volt10.csv']"
      ]
     },
     "execution_count": 83,
     "metadata": {},
     "output_type": "execute_result"
    }
   ],
   "source": [
    "voltage_data = []\n",
    "for i in range(1,11):\n",
    "    voltage_data.append(f'data/volt{i}.csv')\n",
    "voltage_data"
   ]
  },
  {
   "cell_type": "code",
   "execution_count": null,
   "metadata": {},
   "outputs": [],
   "source": []
  },
  {
   "cell_type": "code",
   "execution_count": 114,
   "metadata": {},
   "outputs": [
    {
     "data": {
      "text/html": [
       "<div>\n",
       "<style scoped>\n",
       "    .dataframe tbody tr th:only-of-type {\n",
       "        vertical-align: middle;\n",
       "    }\n",
       "\n",
       "    .dataframe tbody tr th {\n",
       "        vertical-align: top;\n",
       "    }\n",
       "\n",
       "    .dataframe thead th {\n",
       "        text-align: right;\n",
       "    }\n",
       "</style>\n",
       "<table border=\"1\" class=\"dataframe\">\n",
       "  <thead>\n",
       "    <tr style=\"text-align: right;\">\n",
       "      <th></th>\n",
       "      <th>Time (s)</th>\n",
       "      <th>Voltage (mV)</th>\n",
       "    </tr>\n",
       "  </thead>\n",
       "  <tbody>\n",
       "    <tr>\n",
       "      <th>0</th>\n",
       "      <td>0.000417</td>\n",
       "      <td>-0.012559</td>\n",
       "    </tr>\n",
       "    <tr>\n",
       "      <th>1</th>\n",
       "      <td>0.000833</td>\n",
       "      <td>-0.012559</td>\n",
       "    </tr>\n",
       "    <tr>\n",
       "      <th>2</th>\n",
       "      <td>0.001250</td>\n",
       "      <td>-0.012559</td>\n",
       "    </tr>\n",
       "    <tr>\n",
       "      <th>3</th>\n",
       "      <td>0.001667</td>\n",
       "      <td>-0.012559</td>\n",
       "    </tr>\n",
       "    <tr>\n",
       "      <th>4</th>\n",
       "      <td>0.002083</td>\n",
       "      <td>-0.012559</td>\n",
       "    </tr>\n",
       "    <tr>\n",
       "      <th>...</th>\n",
       "      <td>...</td>\n",
       "      <td>...</td>\n",
       "    </tr>\n",
       "    <tr>\n",
       "      <th>6882</th>\n",
       "      <td>2.867917</td>\n",
       "      <td>-0.017268</td>\n",
       "    </tr>\n",
       "    <tr>\n",
       "      <th>6883</th>\n",
       "      <td>2.868333</td>\n",
       "      <td>-0.017007</td>\n",
       "    </tr>\n",
       "    <tr>\n",
       "      <th>6884</th>\n",
       "      <td>2.868750</td>\n",
       "      <td>-0.017268</td>\n",
       "    </tr>\n",
       "    <tr>\n",
       "      <th>6885</th>\n",
       "      <td>2.869167</td>\n",
       "      <td>-0.017268</td>\n",
       "    </tr>\n",
       "    <tr>\n",
       "      <th>6886</th>\n",
       "      <td>2.869583</td>\n",
       "      <td>-0.017268</td>\n",
       "    </tr>\n",
       "  </tbody>\n",
       "</table>\n",
       "<p>6887 rows × 2 columns</p>\n",
       "</div>"
      ],
      "text/plain": [
       "      Time (s)  Voltage (mV)\n",
       "0     0.000417     -0.012559\n",
       "1     0.000833     -0.012559\n",
       "2     0.001250     -0.012559\n",
       "3     0.001667     -0.012559\n",
       "4     0.002083     -0.012559\n",
       "...        ...           ...\n",
       "6882  2.867917     -0.017268\n",
       "6883  2.868333     -0.017007\n",
       "6884  2.868750     -0.017268\n",
       "6885  2.869167     -0.017268\n",
       "6886  2.869583     -0.017268\n",
       "\n",
       "[6887 rows x 2 columns]"
      ]
     },
     "execution_count": 114,
     "metadata": {},
     "output_type": "execute_result"
    }
   ],
   "source": [
    "pd.read_csv('data/volt1.csv')\n"
   ]
  },
  {
   "cell_type": "code",
   "execution_count": 85,
   "metadata": {},
   "outputs": [
    {
     "name": "stdout",
     "output_type": "stream",
     "text": [
      "data/volt1.csv\n",
      "data/volt1.csv\n",
      "data/volt1.csv\n",
      "data/volt1.csv\n",
      "data/volt2.csv\n",
      "data/volt2.csv\n",
      "data/volt2.csv\n",
      "data/volt2.csv\n",
      "data/volt3.csv\n",
      "data/volt3.csv\n",
      "data/volt3.csv\n",
      "data/volt3.csv\n",
      "data/volt4.csv\n",
      "data/volt4.csv\n",
      "data/volt4.csv\n",
      "data/volt4.csv\n",
      "data/volt5.csv\n",
      "data/volt5.csv\n",
      "data/volt5.csv\n",
      "data/volt5.csv\n",
      "data/volt6.csv\n",
      "data/volt6.csv\n",
      "data/volt6.csv\n",
      "data/volt6.csv\n",
      "data/volt7.csv\n",
      "data/volt7.csv\n",
      "data/volt7.csv\n",
      "data/volt7.csv\n",
      "data/volt8.csv\n",
      "data/volt8.csv\n",
      "data/volt8.csv\n",
      "data/volt8.csv\n",
      "data/volt9.csv\n",
      "data/volt9.csv\n",
      "data/volt9.csv\n",
      "data/volt9.csv\n",
      "data/volt10.csv\n",
      "data/volt10.csv\n",
      "data/volt10.csv\n",
      "data/volt10.csv\n",
      "[0.0033795572817325926, 0.006257631505529074, 0.00914282941569885, 0.011894314394642917, 0.01484824685030614, 0.01788505102740596, 0.020701059605926195, 0.023579004375884883, 0.026447878529628054, 0.02949060002962744]\n"
     ]
    }
   ],
   "source": [
    "def find_max(data):\n",
    "    # Load data from CSV\n",
    "    print(data)\n",
    "\n",
    "    data = pd.read_csv(data)\n",
    "    y = list(data['Voltage (mV)'])\n",
    "    \n",
    "    # Define the length of each portion\n",
    "    n = len(y)\n",
    "    portion_size = n // 6\n",
    "    \n",
    "    # Split the data into 6 portions\n",
    "    portions = [y[i * portion_size:(i + 1) * portion_size] for i in range(6)]\n",
    "    \n",
    "    # Handle any leftover elements in the last portion\n",
    "    if n % 6 != 0:\n",
    "        portions[-1].extend(y[6 * portion_size:])\n",
    "    \n",
    "    # Find the maximum of each portion\n",
    "    maxes = [max(portion) for portion in portions]\n",
    "    \n",
    "    return np.array(maxes)\n",
    "\n",
    "\n",
    "def find_min(data):\n",
    "    data = pd.read_csv(data)\n",
    "    y = list(data['Voltage (mV)'])\n",
    "    \n",
    "    # Define the length of each portion\n",
    "    n = len(y)\n",
    "    portion_size = n // 6\n",
    "    \n",
    "    # Split the data into 6 portions\n",
    "    portions = [y[i * portion_size:(i + 1) * portion_size] for i in range(6)]\n",
    "    \n",
    "    # Handle any leftover elements in the last portion\n",
    "    if n % 6 != 0:\n",
    "        portions[-1].extend(y[6 * portion_size:])\n",
    "    \n",
    "    # Find the maximum of each portion\n",
    "    mins = [min(portion) for portion in portions]\n",
    "    \n",
    "    return np.array(mins)\n",
    "\n",
    "# def find_current(data):\n",
    "#     return (np.mean(find_max(data)-find_min(data))/2*0.3), np.std((find_max(data)-find_min(data))/2*0.3)\n",
    "\n",
    "def find_current(data):\n",
    "    return (np.mean(find_max(data)-(find_max(data) + find_min(data))/2)), (np.std(find_max(data)-(find_max(data) + find_min(data))/2)) \n",
    "\n",
    "current = []\n",
    "current_errors = []\n",
    "for i in range(len(voltage_data)):\n",
    "    data = voltage_data[i]\n",
    "    y,y_error = find_current(data)\n",
    "    current.append(y)\n",
    "    current_errors.append(y_error)\n",
    "\n",
    "print(current)\n"
   ]
  },
  {
   "attachments": {},
   "cell_type": "markdown",
   "metadata": {},
   "source": [
    "## Analysis portion"
   ]
  },
  {
   "cell_type": "code",
   "execution_count": 120,
   "metadata": {},
   "outputs": [
    {
     "data": {
      "text/plain": [
       "0     1000\n",
       "1     2000\n",
       "2     3000\n",
       "3     4000\n",
       "4     5000\n",
       "5     6000\n",
       "6     7000\n",
       "7     8000\n",
       "8     9000\n",
       "9    10000\n",
       "Name: voltage, dtype: int64"
      ]
     },
     "execution_count": 120,
     "metadata": {},
     "output_type": "execute_result"
    }
   ],
   "source": [
    "part1 = pd.read_csv('part1.csv')\n",
    "voltage = part1['voltage']*1000\n",
    "voltage"
   ]
  },
  {
   "cell_type": "code",
   "execution_count": 121,
   "metadata": {},
   "outputs": [
    {
     "data": {
      "text/plain": [
       "<matplotlib.collections.PathCollection at 0x7fc1a8e89d00>"
      ]
     },
     "execution_count": 121,
     "metadata": {},
     "output_type": "execute_result"
    },
    {
     "data": {
      "image/png": "[encoded data removed]",
      "text/plain": [
       "<Figure size 640x480 with 1 Axes>"
      ]
     },
     "metadata": {},
     "output_type": "display_data"
    }
   ],
   "source": [
    "plt.scatter(voltage, current)"
   ]
  },
  {
   "cell_type": "code",
   "execution_count": 122,
   "metadata": {},
   "outputs": [
    {
     "data": {
      "image/png": "[encoded data removed]",
      "text/plain": [
       "<Figure size 800x600 with 1 Axes>"
      ]
     },
     "metadata": {},
     "output_type": "display_data"
    },
    {
     "name": "stdout",
     "output_type": "stream",
     "text": [
      "Slope: 2.90e-06\n",
      "Intercept: 4.30e-04\n",
      "Standard Error: 7.93e-09\n",
      "Chi-Squared: 8.86e+00\n"
     ]
    }
   ],
   "source": [
    "x = voltage\n",
    "y = current\n",
    "slope, intercept, r_value, p_value, std_err = linregress(x, y)\n",
    "\n",
    "# Create line for the fitted model\n",
    "fit_line = slope * x + intercept\n",
    "\n",
    "# Compute chi-squared\n",
    "chi_squared = np.sum(((y - fit_line) / current_errors) ** 2)\n",
    "\n",
    "# Plot the data with error bars\n",
    "plt.figure(figsize=(8, 6))\n",
    "plt.errorbar(\n",
    "    x, y, yerr=current_errors, fmt='o', markersize=4, color='blue', \n",
    "    label='Data points with error bars'\n",
    ")\n",
    "plt.plot(x, fit_line, color='red', label=f'Fit: y = {slope:.2e}x + {intercept:.2e}')\n",
    "plt.xlabel('Voltage (mV)')\n",
    "plt.ylabel('Current (mA)')\n",
    "plt.title('Current vs. Voltage')\n",
    "plt.legend()\n",
    "\n",
    "# Annotate the plot with slope, error, and chi-squared in scientific notation\n",
    "plt.text(0.01, 0.85, f'Slope = ({slope:.2e} ± {std_err:.2e})', \n",
    "         transform=plt.gca().transAxes, fontsize=10, verticalalignment='top')\n",
    "plt.text(0.01, 0.78, f'Chi-Squared = {chi_squared:.2e}', \n",
    "         transform=plt.gca().transAxes, fontsize=10, verticalalignment='top')\n",
    "\n",
    "plt.grid()\n",
    "plt.show()\n",
    "\n",
    "# Print the slope, standard error, and chi-squared in scientific notation\n",
    "print(f\"Slope: {slope:.2e}\")\n",
    "print(f\"Intercept: {intercept:.2e}\")\n",
    "print(f\"Standard Error: {std_err:.2e}\")\n",
    "print(f\"Chi-Squared: {chi_squared:.2e}\")\n"
   ]
  },
  {
   "cell_type": "code",
   "execution_count": 123,
   "metadata": {},
   "outputs": [
    {
     "data": {
      "image/png": "[encoded data removed]",
      "text/plain": [
       "<Figure size 800x600 with 1 Axes>"
      ]
     },
     "metadata": {},
     "output_type": "display_data"
    }
   ],
   "source": [
    "x = part1['voltage']\n",
    "y = (part1['min (mV)'] + part1['Max (mV)']) / 2*0.3\n",
    "\n",
    "# Perform linear regression\n",
    "slope, intercept, r_value, p_value, std_err = linregress(x, y)\n",
    "\n",
    "# Calculate predicted y values (fitted values)\n",
    "y_pred = slope * x + intercept\n",
    "\n",
    "# Calculate residuals\n",
    "residuals = y - y_pred\n",
    "\n",
    "# Plot the residuals\n",
    "plt.figure(figsize=(8, 6))\n",
    "plt.scatter(x, residuals, color='blue', label='Residuals')\n",
    "plt.axhline(0, color='red', linestyle='--', label='Zero Line')\n",
    "plt.xlabel('Voltage (mV)')\n",
    "plt.ylabel('Residuals (mA)')\n",
    "plt.title('Residual Plot')\n",
    "plt.legend()\n",
    "\n",
    "# Annotate with some residual stats\n",
    "plt.text(0.05, 0.90, f'Mean Residual: {np.mean(residuals):.10f}', \n",
    "         transform=plt.gca().transAxes, fontsize=10, verticalalignment='top')\n",
    "plt.text(0.05, 0.85, f'Standard Deviation: {np.std(residuals):.4f}', \n",
    "         transform=plt.gca().transAxes, fontsize=10, verticalalignment='top')\n",
    "\n",
    "plt.grid()\n",
    "plt.show()"
   ]
  },
  {
   "attachments": {},
   "cell_type": "markdown",
   "metadata": {},
   "source": [
    "# Calculating Error Propagation"
   ]
  },
  {
   "cell_type": "code",
   "execution_count": 90,
   "metadata": {},
   "outputs": [],
   "source": [
    "from sympy import symbols, sqrt, diff"
   ]
  },
  {
   "cell_type": "code",
   "execution_count": 91,
   "metadata": {},
   "outputs": [],
   "source": [
    "# Define f\n",
    "\n",
    "A1, A2, l1, l2, R1, R2, n1, n2, omega = symbols('A1 A2 l1 l2 R1 R2 n1 n2 omega')\n",
    "mu0, N2 = symbols('mu0 N2')"
   ]
  },
  {
   "cell_type": "code",
   "execution_count": 104,
   "metadata": {},
   "outputs": [
    {
     "data": {
      "text/latex": [
       "$\\displaystyle \\frac{A_{2} N_{2} \\mu_{0} n_{1} \\omega}{\\left(A_{1}^{2} l_{1}^{2} \\mu_{0}^{2} n_{1}^{4} \\omega^{2} + R_{1}^{2}\\right)^{0.5} \\left(A_{2}^{2} l_{2}^{2} \\mu_{0}^{2} n_{2}^{4} \\omega^{2} + R_{2}^{2}\\right)^{0.5}}$"
      ],
      "text/plain": [
       "A2*N2*mu0*n1*omega/((A1**2*l1**2*mu0**2*n1**4*omega**2 + R1**2)**0.5*(A2**2*l2**2*mu0**2*n2**4*omega**2 + R2**2)**0.5)"
      ]
     },
     "execution_count": 104,
     "metadata": {},
     "output_type": "execute_result"
    }
   ],
   "source": [
    "numerator = (mu0 * n1 * A2 *N2)/(R1**2 + omega**2*(mu0*n1**2 *A1*l1)**2)**0.5*omega\n",
    "denominator = (R2**2 + omega**2*(mu0 * n2**2 * A2 * l2)**2)**0.5\n",
    "f = numerator / denominator\n",
    "f\n"
   ]
  },
  {
   "cell_type": "code",
   "execution_count": 106,
   "metadata": {},
   "outputs": [],
   "source": [
    "partial_A1 = diff(f, A1)\n",
    "partial_A2 = diff(f, A2)\n",
    "partial_l1 = diff(f, l1)\n",
    "partial_l2 = diff(f, l2)\n",
    "partial_R1 = diff(f, R1)\n",
    "partial_R2 = diff(f, R2)\n",
    "partial_n1 = diff(f, n1)\n",
    "partial_n2 = diff(f, n2)\n",
    "partial_omega = diff(f, omega)\n",
    "\n",
    "partials = {\n",
    "    'partial_A1': partial_A1,\n",
    "    'partial_A2': partial_A2,\n",
    "    'partial_l1': partial_l1,\n",
    "    'partial_l2': partial_l2,\n",
    "    'partial_R1': partial_R1,\n",
    "    'partial_R2': partial_R2,\n",
    "    'partial_n1': partial_n1,\n",
    "    'partial_n2': partial_n2,\n",
    "    'partial_omega': partial_omega,\n",
    "}\n"
   ]
  },
  {
   "cell_type": "code",
   "execution_count": 107,
   "metadata": {},
   "outputs": [
    {
     "data": {
      "text/latex": [
       "$\\displaystyle - \\frac{1.0 A_{1}^{2} A_{2} N_{2} l_{1}^{2} \\mu_{0}^{3} n_{1}^{5} \\omega^{2}}{\\left(A_{1}^{2} l_{1}^{2} \\mu_{0}^{2} n_{1}^{4} \\omega^{2} + R_{1}^{2}\\right)^{1.5} \\left(A_{2}^{2} l_{2}^{2} \\mu_{0}^{2} n_{2}^{4} \\omega^{2} + R_{2}^{2}\\right)^{0.5}} - \\frac{1.0 A_{2}^{3} N_{2} l_{2}^{2} \\mu_{0}^{3} n_{1} n_{2}^{4} \\omega^{2}}{\\left(A_{1}^{2} l_{1}^{2} \\mu_{0}^{2} n_{1}^{4} \\omega^{2} + R_{1}^{2}\\right)^{0.5} \\left(A_{2}^{2} l_{2}^{2} \\mu_{0}^{2} n_{2}^{4} \\omega^{2} + R_{2}^{2}\\right)^{1.5}} + \\frac{A_{2} N_{2} \\mu_{0} n_{1}}{\\left(A_{1}^{2} l_{1}^{2} \\mu_{0}^{2} n_{1}^{4} \\omega^{2} + R_{1}^{2}\\right)^{0.5} \\left(A_{2}^{2} l_{2}^{2} \\mu_{0}^{2} n_{2}^{4} \\omega^{2} + R_{2}^{2}\\right)^{0.5}}$"
      ],
      "text/plain": [
       "-1.0*A1**2*A2*N2*l1**2*mu0**3*n1**5*omega**2/((A1**2*l1**2*mu0**2*n1**4*omega**2 + R1**2)**1.5*(A2**2*l2**2*mu0**2*n2**4*omega**2 + R2**2)**0.5) - 1.0*A2**3*N2*l2**2*mu0**3*n1*n2**4*omega**2/((A1**2*l1**2*mu0**2*n1**4*omega**2 + R1**2)**0.5*(A2**2*l2**2*mu0**2*n2**4*omega**2 + R2**2)**1.5) + A2*N2*mu0*n1/((A1**2*l1**2*mu0**2*n1**4*omega**2 + R1**2)**0.5*(A2**2*l2**2*mu0**2*n2**4*omega**2 + R2**2)**0.5)"
      ]
     },
     "execution_count": 107,
     "metadata": {},
     "output_type": "execute_result"
    }
   ],
   "source": [
    "partial_omega"
   ]
  },
  {
   "attachments": {},
   "cell_type": "markdown",
   "metadata": {},
   "source": [
    "## Calcuating the Error"
   ]
  },
  {
   "cell_type": "code",
   "execution_count": 108,
   "metadata": {},
   "outputs": [
    {
     "name": "stdout",
     "output_type": "stream",
     "text": [
      "This outputs the equation for the error propagation\n"
     ]
    }
   ],
   "source": [
    "Alpha_A1, Alpha_A2, Alpha_l1, Alpha_l2, Alpha_R1, Alpha_R2, Alpha_n1, Alpha_n2, Alpha_omega = (\n",
    "     0.02, 0.03, 0.01, 0.02, 0.01, 0.02, 0.1, 0.1, 0.01\n",
    ")\n",
    "\n",
    "# Values of variables (replace with actual values)\n",
    "values = {\n",
    "    A1: 1.0,\n",
    "    A2: 1.0,\n",
    "    l1: 1.0,\n",
    "    l2: 1.0,\n",
    "    R1: 1.0,\n",
    "    R2: 1.0,\n",
    "    n1: 1.0,\n",
    "    n2: 1.0,\n",
    "    omega: 1.0,\n",
    "}\n",
    "\n",
    "# Substitute values into partial derivatives\n",
    "partials_evaluated = {\n",
    "    name: partial.subs(values)\n",
    "    for name, partial in partials.items()\n",
    "}\n",
    "\n",
    "# Calculate the squared contributions\n",
    "squared_terms = [\n",
    "    (partials_evaluated['partial_A1'] * Alpha_A1)**2,\n",
    "    (partials_evaluated['partial_A2'] * Alpha_A2)**2,\n",
    "    (partials_evaluated['partial_l1'] * Alpha_l1)**2,\n",
    "    (partials_evaluated['partial_l2'] * Alpha_l2)**2,\n",
    "    (partials_evaluated['partial_R1'] * Alpha_R1)**2,\n",
    "    (partials_evaluated['partial_R2'] * Alpha_R2)**2,\n",
    "    (partials_evaluated['partial_R2'] * Alpha_n1)**2,\n",
    "    (partials_evaluated['partial_R2'] * Alpha_n2)**2,\n",
    "    (partials_evaluated['partial_omega'] * Alpha_omega)**2,\n",
    "]\n",
    "\n",
    "# Sum the squared terms and take the square root\n",
    "Delta_f = sqrt(sum(squared_terms))\n",
    "Delta_f\n",
    "print(\"This outputs the equation for the error propagation\")"
   ]
  },
  {
   "cell_type": "code",
   "execution_count": 109,
   "metadata": {},
   "outputs": [
    {
     "data": {
      "text/latex": [
       "$\\displaystyle 2.0 \\sqrt{\\frac{0.25 A_{1}^{4} A_{2}^{2} N_{2}^{2} \\alpha_{l1}^{2} l_{1}^{2} \\mu_{0}^{6} n_{1}^{10} \\omega^{6}}{\\left(A_{1}^{2} l_{1}^{2} \\mu_{0}^{2} n_{1}^{4} \\omega^{2} + R_{1}^{2}\\right)^{3.0} \\left(A_{2}^{2} l_{2}^{2} \\mu_{0}^{2} n_{2}^{4} \\omega^{2} + R_{2}^{2}\\right)^{1.0}} + \\frac{0.25 A_{1}^{2} A_{2}^{2} N_{2}^{2} \\alpha_{A1}^{2} l_{1}^{4} \\mu_{0}^{6} n_{1}^{10} \\omega^{6}}{\\left(A_{1}^{2} l_{1}^{2} \\mu_{0}^{2} n_{1}^{4} \\omega^{2} + R_{1}^{2}\\right)^{3.0} \\left(A_{2}^{2} l_{2}^{2} \\mu_{0}^{2} n_{2}^{4} \\omega^{2} + R_{2}^{2}\\right)^{1.0}} + \\frac{0.25 A_{2}^{6} N_{2}^{2} \\alpha_{l2}^{2} l_{2}^{2} \\mu_{0}^{6} n_{1}^{2} n_{2}^{8} \\omega^{6}}{\\left(A_{1}^{2} l_{1}^{2} \\mu_{0}^{2} n_{1}^{4} \\omega^{2} + R_{1}^{2}\\right)^{1.0} \\left(A_{2}^{2} l_{2}^{2} \\mu_{0}^{2} n_{2}^{4} \\omega^{2} + R_{2}^{2}\\right)^{3.0}} + \\frac{A_{2}^{6} N_{2}^{2} \\alpha_{n2}^{2} l_{2}^{4} \\mu_{0}^{6} n_{1}^{2} n_{2}^{6} \\omega^{6}}{\\left(A_{1}^{2} l_{1}^{2} \\mu_{0}^{2} n_{1}^{4} \\omega^{2} + R_{1}^{2}\\right)^{1.0} \\left(A_{2}^{2} l_{2}^{2} \\mu_{0}^{2} n_{2}^{4} \\omega^{2} + R_{2}^{2}\\right)^{3.0}} + \\frac{0.25 A_{2}^{2} N_{2}^{2} R_{1}^{2} \\alpha_{R1}^{2} \\mu_{0}^{2} n_{1}^{2} \\omega^{2}}{\\left(A_{1}^{2} l_{1}^{2} \\mu_{0}^{2} n_{1}^{4} \\omega^{2} + R_{1}^{2}\\right)^{3.0} \\left(A_{2}^{2} l_{2}^{2} \\mu_{0}^{2} n_{2}^{4} \\omega^{2} + R_{2}^{2}\\right)^{1.0}} + \\frac{0.25 A_{2}^{2} N_{2}^{2} R_{2}^{2} \\alpha_{R2}^{2} \\mu_{0}^{2} n_{1}^{2} \\omega^{2}}{\\left(A_{1}^{2} l_{1}^{2} \\mu_{0}^{2} n_{1}^{4} \\omega^{2} + R_{1}^{2}\\right)^{1.0} \\left(A_{2}^{2} l_{2}^{2} \\mu_{0}^{2} n_{2}^{4} \\omega^{2} + R_{2}^{2}\\right)^{3.0}} + 0.25 \\alpha_{A2}^{2} \\left(- \\frac{1.0 A_{2}^{2} N_{2} l_{2}^{2} \\mu_{0}^{3} n_{1} n_{2}^{4} \\omega^{3}}{\\left(A_{1}^{2} l_{1}^{2} \\mu_{0}^{2} n_{1}^{4} \\omega^{2} + R_{1}^{2}\\right)^{0.5} \\left(A_{2}^{2} l_{2}^{2} \\mu_{0}^{2} n_{2}^{4} \\omega^{2} + R_{2}^{2}\\right)^{1.5}} + \\frac{N_{2} \\mu_{0} n_{1} \\omega}{\\left(A_{1}^{2} l_{1}^{2} \\mu_{0}^{2} n_{1}^{4} \\omega^{2} + R_{1}^{2}\\right)^{0.5} \\left(A_{2}^{2} l_{2}^{2} \\mu_{0}^{2} n_{2}^{4} \\omega^{2} + R_{2}^{2}\\right)^{0.5}}\\right)^{2} + \\alpha_{n1}^{2} \\left(- \\frac{A_{1}^{2} A_{2} N_{2} l_{1}^{2} \\mu_{0}^{3} n_{1}^{4} \\omega^{3}}{\\left(A_{1}^{2} l_{1}^{2} \\mu_{0}^{2} n_{1}^{4} \\omega^{2} + R_{1}^{2}\\right)^{1.5} \\left(A_{2}^{2} l_{2}^{2} \\mu_{0}^{2} n_{2}^{4} \\omega^{2} + R_{2}^{2}\\right)^{0.5}} + \\frac{0.5 A_{2} N_{2} \\mu_{0} \\omega}{\\left(A_{1}^{2} l_{1}^{2} \\mu_{0}^{2} n_{1}^{4} \\omega^{2} + R_{1}^{2}\\right)^{0.5} \\left(A_{2}^{2} l_{2}^{2} \\mu_{0}^{2} n_{2}^{4} \\omega^{2} + R_{2}^{2}\\right)^{0.5}}\\right)^{2} + 0.25 \\alpha_{\\omega}^{2} \\left(- \\frac{1.0 A_{1}^{2} A_{2} N_{2} l_{1}^{2} \\mu_{0}^{3} n_{1}^{5} \\omega^{2}}{\\left(A_{1}^{2} l_{1}^{2} \\mu_{0}^{2} n_{1}^{4} \\omega^{2} + R_{1}^{2}\\right)^{1.5} \\left(A_{2}^{2} l_{2}^{2} \\mu_{0}^{2} n_{2}^{4} \\omega^{2} + R_{2}^{2}\\right)^{0.5}} - \\frac{1.0 A_{2}^{3} N_{2} l_{2}^{2} \\mu_{0}^{3} n_{1} n_{2}^{4} \\omega^{2}}{\\left(A_{1}^{2} l_{1}^{2} \\mu_{0}^{2} n_{1}^{4} \\omega^{2} + R_{1}^{2}\\right)^{0.5} \\left(A_{2}^{2} l_{2}^{2} \\mu_{0}^{2} n_{2}^{4} \\omega^{2} + R_{2}^{2}\\right)^{1.5}} + \\frac{A_{2} N_{2} \\mu_{0} n_{1}}{\\left(A_{1}^{2} l_{1}^{2} \\mu_{0}^{2} n_{1}^{4} \\omega^{2} + R_{1}^{2}\\right)^{0.5} \\left(A_{2}^{2} l_{2}^{2} \\mu_{0}^{2} n_{2}^{4} \\omega^{2} + R_{2}^{2}\\right)^{0.5}}\\right)^{2}}$"
      ],
      "text/plain": [
       "2.0*sqrt(0.25*A1**4*A2**2*N2**2*alpha_l1**2*l1**2*mu0**6*n1**10*omega**6/((A1**2*l1**2*mu0**2*n1**4*omega**2 + R1**2)**3.0*(A2**2*l2**2*mu0**2*n2**4*omega**2 + R2**2)**1.0) + 0.25*A1**2*A2**2*N2**2*alpha_A1**2*l1**4*mu0**6*n1**10*omega**6/((A1**2*l1**2*mu0**2*n1**4*omega**2 + R1**2)**3.0*(A2**2*l2**2*mu0**2*n2**4*omega**2 + R2**2)**1.0) + 0.25*A2**6*N2**2*alpha_l2**2*l2**2*mu0**6*n1**2*n2**8*omega**6/((A1**2*l1**2*mu0**2*n1**4*omega**2 + R1**2)**1.0*(A2**2*l2**2*mu0**2*n2**4*omega**2 + R2**2)**3.0) + A2**6*N2**2*alpha_n2**2*l2**4*mu0**6*n1**2*n2**6*omega**6/((A1**2*l1**2*mu0**2*n1**4*omega**2 + R1**2)**1.0*(A2**2*l2**2*mu0**2*n2**4*omega**2 + R2**2)**3.0) + 0.25*A2**2*N2**2*R1**2*alpha_R1**2*mu0**2*n1**2*omega**2/((A1**2*l1**2*mu0**2*n1**4*omega**2 + R1**2)**3.0*(A2**2*l2**2*mu0**2*n2**4*omega**2 + R2**2)**1.0) + 0.25*A2**2*N2**2*R2**2*alpha_R2**2*mu0**2*n1**2*omega**2/((A1**2*l1**2*mu0**2*n1**4*omega**2 + R1**2)**1.0*(A2**2*l2**2*mu0**2*n2**4*omega**2 + R2**2)**3.0) + 0.25*alpha_A2**2*(-1.0*A2**2*N2*l2**2*mu0**3*n1*n2**4*omega**3/((A1**2*l1**2*mu0**2*n1**4*omega**2 + R1**2)**0.5*(A2**2*l2**2*mu0**2*n2**4*omega**2 + R2**2)**1.5) + N2*mu0*n1*omega/((A1**2*l1**2*mu0**2*n1**4*omega**2 + R1**2)**0.5*(A2**2*l2**2*mu0**2*n2**4*omega**2 + R2**2)**0.5))**2 + alpha_n1**2*(-A1**2*A2*N2*l1**2*mu0**3*n1**4*omega**3/((A1**2*l1**2*mu0**2*n1**4*omega**2 + R1**2)**1.5*(A2**2*l2**2*mu0**2*n2**4*omega**2 + R2**2)**0.5) + 0.5*A2*N2*mu0*omega/((A1**2*l1**2*mu0**2*n1**4*omega**2 + R1**2)**0.5*(A2**2*l2**2*mu0**2*n2**4*omega**2 + R2**2)**0.5))**2 + 0.25*alpha_omega**2*(-1.0*A1**2*A2*N2*l1**2*mu0**3*n1**5*omega**2/((A1**2*l1**2*mu0**2*n1**4*omega**2 + R1**2)**1.5*(A2**2*l2**2*mu0**2*n2**4*omega**2 + R2**2)**0.5) - 1.0*A2**3*N2*l2**2*mu0**3*n1*n2**4*omega**2/((A1**2*l1**2*mu0**2*n1**4*omega**2 + R1**2)**0.5*(A2**2*l2**2*mu0**2*n2**4*omega**2 + R2**2)**1.5) + A2*N2*mu0*n1/((A1**2*l1**2*mu0**2*n1**4*omega**2 + R1**2)**0.5*(A2**2*l2**2*mu0**2*n2**4*omega**2 + R2**2)**0.5))**2)"
      ]
     },
     "execution_count": 109,
     "metadata": {},
     "output_type": "execute_result"
    }
   ],
   "source": [
    "A1, A2, l1, l2, R1, R2, n1, n2, omega = symbols('A1 A2 l1 l2 R1 R2 n1 n2 omega')\n",
    "Alpha_A1, Alpha_A2, Alpha_l1, Alpha_l2, Alpha_R1, Alpha_R2, Alpha_n1, Alpha_n2, Alpha_omega = symbols(\n",
    "    'alpha_A1 alpha_A2 alpha_l1 alpha_l2 alpha_R1 alpha_R2 alpha_n1 alpha_n2 alpha_omega'\n",
    ")\n",
    "\n",
    "# Define the squared contributions\n",
    "squared_terms = [\n",
    "    (partial_A1 * Alpha_A1)**2,\n",
    "    (partial_A2 * Alpha_A2)**2,\n",
    "    (partial_l1 * Alpha_l1)**2,\n",
    "    (partial_l2 * Alpha_l2)**2,\n",
    "    (partial_R1 * Alpha_R1)**2,\n",
    "    (partial_R2 * Alpha_R2)**2,\n",
    "    (partial_n1 * Alpha_n1)**2,\n",
    "    (partial_n2 * Alpha_n2)**2,\n",
    "    (partial_omega * Alpha_omega)**2,\n",
    "]\n",
    "\n",
    "# Sum the squared terms and take the square root\n",
    "Delta_f = sqrt(sum(squared_terms))\n",
    "Delta_f"
   ]
  },
  {
   "cell_type": "code",
   "execution_count": 110,
   "metadata": {},
   "outputs": [],
   "source": [
    "values = {\n",
    "    N2: 28,\n",
    "    A1: 0.01353,\n",
    "    A2: 0.00137,\n",
    "    l1: 0.00674,\n",
    "    l2: 0.00360,\n",
    "    R1: 50.8,\n",
    "    R2: 0.3,\n",
    "    n1: 2373.89,\n",
    "    n2: 7777.78,\n",
    "    omega: 40*math.pi,\n",
    "    Alpha_A1: 0.000004124, \n",
    "    Alpha_A2: 0.00000131, \n",
    "    Alpha_l1: 0.00001, \n",
    "    Alpha_l2: 0.00001, \n",
    "    Alpha_R1: 50.8*0.1, \n",
    "    Alpha_R2: 0.3*0.1, \n",
    "    Alpha_n1: 0.00016, \n",
    "    Alpha_n2: 0.00028, \n",
    "    Alpha_omega: 0.000001*2*math.pi,\n",
    "    mu0: 1.25663706e-6 ,\n",
    "    \n",
    "}  # Replace these with your actual values\n",
    "\n",
    "# Substitute numeric values\n",
    "Delta_f_numeric = Delta_f.subs(values).evalf()"
   ]
  },
  {
   "cell_type": "code",
   "execution_count": 111,
   "metadata": {},
   "outputs": [
    {
     "name": "stdout",
     "output_type": "stream",
     "text": [
      "The Theoritical Value should be:  0.000932143188644266\n"
     ]
    },
    {
     "data": {
      "text/latex": [
       "$\\displaystyle \\frac{A_{2} N_{2} \\mu_{0} n_{1} \\omega}{\\left(A_{1}^{2} l_{1}^{2} \\mu_{0}^{2} n_{1}^{4} \\omega^{2} + R_{1}^{2}\\right)^{0.5} \\left(A_{2}^{2} l_{2}^{2} \\mu_{0}^{2} n_{2}^{4} \\omega^{2} + R_{2}^{2}\\right)^{0.5}}$"
      ],
      "text/plain": [
       "A2*N2*mu0*n1*omega/((A1**2*l1**2*mu0**2*n1**4*omega**2 + R1**2)**0.5*(A2**2*l2**2*mu0**2*n2**4*omega**2 + R2**2)**0.5)"
      ]
     },
     "execution_count": 111,
     "metadata": {},
     "output_type": "execute_result"
    }
   ],
   "source": [
    "print(\"The Theoritical Value should be: \", f.subs(values))\n",
    "f\n"
   ]
  },
  {
   "cell_type": "code",
   "execution_count": 112,
   "metadata": {},
   "outputs": [
    {
     "name": "stdout",
     "output_type": "stream",
     "text": [
      "The theoritical error is:  0.000130250823603918\n"
     ]
    }
   ],
   "source": [
    "print(\"The theoritical error is: \", Delta_f_numeric)"
   ]
  },
  {
   "cell_type": "code",
   "execution_count": 73,
   "metadata": {},
   "outputs": [
    {
     "data": {
      "text/plain": [
       "1.2566370614359173e-06"
      ]
     },
     "execution_count": 73,
     "metadata": {},
     "output_type": "execute_result"
    }
   ],
   "source": [
    "4*math.pi*10**-7"
   ]
  },
  {
   "cell_type": "code",
   "execution_count": 74,
   "metadata": {},
   "outputs": [
    {
     "data": {
      "text/plain": [
       "0.002247137417265857"
      ]
     },
     "execution_count": 74,
     "metadata": {},
     "output_type": "execute_result"
    }
   ],
   "source": [
    "V = 5.740\n",
    "alpha_v = 0.001 \n",
    "R = 0.3\n",
    "alpha_r = 0.1*0.3\n",
    "mu0 = 4*math.pi*10**-7\n",
    "n2 = 28\n",
    "\n",
    "\n",
    "def error_prop_part1():\n",
    "    return math.sqrt((mu0 * n2 / R)**2 + (mu0 * n2 * V / R**2)**2)\n",
    "\n",
    "error_prop_part1()"
   ]
  },
  {
   "cell_type": "code",
   "execution_count": 75,
   "metadata": {},
   "outputs": [
    {
     "data": {
      "text/plain": [
       "True"
      ]
     },
     "execution_count": 75,
     "metadata": {},
     "output_type": "execute_result"
    }
   ],
   "source": [
    "0.002247137417265857 == 0.002247137417265857"
   ]
  },
  {
   "cell_type": "code",
   "execution_count": null,
   "metadata": {},
   "outputs": [],
   "source": []
  }
 ],
 "metadata": {
  "kernelspec": {
   "display_name": "base",
   "language": "python",
   "name": "python3"
  },
  "language_info": {
   "codemirror_mode": {
    "name": "ipython",
    "version": 3
   },
   "file_extension": ".py",
   "mimetype": "text/x-python",
   "name": "python",
   "nbconvert_exporter": "python",
   "pygments_lexer": "ipython3",
   "version": "3.9.13"
  },
  "orig_nbformat": 4
 },
 "nbformat": 4,
 "nbformat_minor": 2
}
